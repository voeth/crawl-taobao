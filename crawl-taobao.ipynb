{
 "cells": [
  {
   "cell_type": "code",
   "execution_count": 4,
   "metadata": {},
   "outputs": [],
   "source": [
    "import re\n",
    "import requests as req\n",
    "from bs4 import BeautifulSoup as bfs\n",
    "import bs4"
   ]
  },
  {
   "cell_type": "code",
   "execution_count": 19,
   "metadata": {},
   "outputs": [
    {
     "name": "stdout",
     "output_type": "stream",
     "text": [
      "请输入你要查找的商品：口红\n",
      "    序号    \t　　　　价格　　　　\t   商品名称   \t\n",
      "    1     \t　　299.00　　\tDior/迪奥 烈艳蓝金唇膏\t\n",
      "    2     \t　　320.00　　\tYSL/圣罗兰 黑管唇釉\t\n",
      "    3     \t　　310.00　　\tGIORGIO ARMANI/阿玛尼 臻致丝绒哑光 唇釉\t\n",
      "    4     \t　　320.00　　\tYSL/圣罗兰 纯口红\t\n",
      "    5     \t　　270.00　　\tEstee Lauder/雅诗兰黛 倾慕唇膏魅色系列\t\n",
      "    6     \t　　170.00　　\tMAC/魅可 子弹头唇膏\t\n",
      "    7     \t　　668.00　　\tDior/迪奥烈艳蓝金唇膏口红礼盒套装 520 999 888送女友礼物\t\n",
      "    8     \t　　310.00　　\tGIORGIO ARMANI/阿玛尼 漆光迷情唇釉\t\n",
      "    9     \t　　980.00　　\tDior/迪奥烈艳蓝金唇膏口红999 520 888 正品口红香水套装送礼\t\n",
      "    10    \t　　409.00　　\tTom Ford/汤姆福特 Lip Color唇膏\t\n",
      "    11    \t　　170.00　　\tMAC/魅可 子弹头唇膏当季潮色\t\n",
      "    12    \t　　320.00　　\tGivenchy/纪梵希 禁忌之吻霓虹唇膏\t\n",
      "    13    \t　　320.00　　\tGivenchy/纪梵希 高定香榭丝缎唇膏\t\n",
      "    14    \t　　288.00　　\tDior迪奥烈焰烈艳蓝金唇膏口红999 888 520 哑光滋润专柜旗舰正品\t\n",
      "    15    \t　　270.00　　\tEstee Lauder/雅诗兰黛 雅诗兰黛倾慕唇膏-丝绒系列\t\n",
      "    16    \t　　270.00　　\tLancome/兰蔻 菁纯漆光唇釉\t\n",
      "    17    \t　　109.00　　\tCARSLAN/卡姿兰 金致胶原美芯唇膏\t\n",
      "    18    \t　　355.00　　\tGivenchy/纪梵希 香榭高定天鹅绒唇膏\t\n",
      "    19    \t　　279.00　　\tDior/迪奥 粉漾诱惑润唇膏\t\n",
      "    20    \t　　408.00　　\tTom Ford/汤姆福特TF口红唇膏白管黑管16/80/15/07/03/08/09正品\t\n",
      "    21    \t　　270.00　　\tLancome/兰蔻 菁纯丝绒雾面唇膏\t\n",
      "    22    \t　　388.00　　\tTom Ford汤姆福特黑管白管唇膏tf口红 15 08 09 16 07 10 80 64\t\n",
      "    23    \t　　119.00　　\tCARSLAN/卡姿兰 金致胶原轻雾感唇膏\t\n",
      "    24    \t　　155.00　　\tGuerlain/娇兰 臻彩宝石唇膏(高定)\t\n",
      "    25    \t　　320.00　　\tGuerlain/娇兰 亲亲唇膏\t\n",
      "    26    \t　　125.00　　\tL&#39;OREAL /欧莱雅 纷泽滋润唇膏\t\n",
      "    27    \t　　135.00　　\tL&#39;OREAL /欧莱雅 纷泽丰润雾感唇膏\t\n",
      "    28    \t　　105.00　　\tL&#39;OREAL /欧莱雅 恒放溢彩雾感唇釉\t\n",
      "    29    \t　　280.00　　\tNars/娜斯 持色雾感哑光唇彩液\t\n",
      "    30    \t　　98.00　　　\tCARSLAN/卡姿兰 轻甜唇爱随心盒\t\n",
      "    31    \t　　109.00　　\t卡姿兰口红女学生款法国平价小众品牌四岁故宫一箱套装情人节限定\t\n",
      "    32    \t　　99.00　　　\t美宝莲星钻小灯管牛血色枫叶色口红女不脱色不沾杯官方旗舰店正品\t\n",
      "    33    \t　　79.90　　　\tMaybelline/美宝莲 绝色持久唇膏\t\n",
      "    34    \t　　139.00　　\tCARSLAN/卡姿兰 小红唇美芯唇膏\t\n",
      "    35    \t　　139.00　　\t屈臣氏欧莱雅印迹唇釉小钢笔 持久不沾杯口红 哑光显色多色可选\t\n",
      "    36    \t　　858.00　　\tTom Ford/汤姆福特TF口红唇膏礼盒套装白管黑管送女友情人节礼物\t\n",
      "    37    \t　　89.00　　　\tMaybelline/美宝莲 纵情耀绝色持久唇膏\t\n",
      "    38    \t　　798.00　　\tChristian Louboutin 萝卜丁口红\t\n",
      "    39    \t　　320.00　　\tGivenchy/纪梵希 高定香榭丰唇膏\t\n",
      "    40    \t　　99.00　　　\tMaybelline/美宝莲 巨持色哑光液体唇膏\t\n",
      "    41    \t　　85.00　　　\tKIKO 4系小黑管当季潮色\t\n",
      "    42    \t　　116.00　　\tL&#39;OREAL /欧莱雅 印迹雾感唇釉\t\n",
      "    43    \t　　419.00　　\tTom Ford/汤姆福特 黑金管哑光唇膏\t\n",
      "    44    \t　　79.90　　　\tZEESEA 轻雾感哑光唇釉\t\n",
      "    45    \t　　259.00　　\t【直营】美国NARS进口纳斯丝绒唇彩柔滑唇釉雾面哑光口红滋养显色\t\n",
      "    46    \t　1440.00　　\tCPB/肌肤之钥 光魅唇膏\t\n",
      "    47    \t　　320.00　　\tNars/娜斯 敢耀唇膏\t\n",
      "    48    \t　　99.00　　　\tCHIOTURE 稚优泉 柔雾哑光口红5色\t\n",
      "    49    \t　　390.00　　\tSisley/希思黎 魅惑口红\t\n",
      "    50    \t　　79.90　　　\tZEESEA 琉璃水光唇釉\t\n",
      "    51    \t　　89.90　　　\tCatkin/卡婷 点绛唇口红\t\n",
      "    52    \t　　300.00　　\tHourglass Confession Ultra Slim High Intensity Refillable Lipstick\t\n",
      "    53    \t　　125.00　　\t3ce MOOD RECIPE MATTE LIP COLOR NEW\t\n",
      "    54    \t　　199.00　　\tLARME DE SIRENE/人鱼之水 人鱼之水钻石口红\t\n",
      "    55    \t　　79.00　　　\tMARIE DALGAR/玛丽黛佳 国风复刻唇釉\t\n",
      "    56    \t　　188.00　　\t圣&middot;博蜜思 传奇今生红樱桃健康唇膏\t\n",
      "    57    \t　　79.90　　　\t美宝莲小灯管口红唇膏小鞭炮滋润保湿888 233 168 56官方旗舰店\t\n",
      "    58    \t　　119.00　　\tCHIOTURE 稚优泉 釉光口红五色礼盒装\t\n",
      "    59    \t　　989.00　　\tChristian Louboutin 女王权杖口红唇膏\t\n",
      "    60    \t　　79.90　　　\tAmy/安美 少女之吻唇釉\t\n"
     ]
    }
   ],
   "source": [
    "def getHTMLText(url ='https://list.tmall.com/search_product.htm?q='):\n",
    "    try:\n",
    "        keyword = input('请输入你要查找的商品：')\n",
    "        html = req.get(url+keyword,timeout=30,headers = {'user-agent':'Mozilla/5.0 '})\n",
    "        html.raise_for_status()\n",
    "        html.encoding = html.apparent_encoding\n",
    "        return html.text\n",
    "    except:\n",
    "        print('网页访问出现异常，请排查bug')\n",
    "        \n",
    "def findtext():\n",
    "    html = getHTMLText()\n",
    "    price = re.findall(r'<em title=\\\"[\\d\\.]*\\\"',html)# 由于我们想要的信息含有键值对，所以直接以字符串形式输出访问网页结果\n",
    "    goods = re.findall(r'_blank\\\" title=\\\".*?\\\"',html)#无需bs4解析网页用re正则表达式匹配字符串就好了\n",
    "    produces = [[eval(price[i].split('=')[1]),eval(goods[i].split('=')[1])] for i in range(len(price))]\n",
    "    # eval()虽然有执行字符串表达式的作用，但这里仅用于去除引号\n",
    "    printgoods(produces)\n",
    "\n",
    "def printgoods(produces):\n",
    "    print('{0:^10}\\t{1:{3}^10}\\t{2:^10}\\t'.format('序号','价格','商品名称',chr(12288)))\n",
    "    i =1\n",
    "    for p in produces:\n",
    "        print('{0:^10}\\t{1:{3}^10}\\t{2:^10}\\t'.format(i,p[0],p[1],chr(12288)))\n",
    "        i +=1\n",
    "if __name__=='__main__':    \n",
    "    findtext()"
   ]
  },
  {
   "cell_type": "code",
   "execution_count": null,
   "metadata": {},
   "outputs": [],
   "source": []
  }
 ],
 "metadata": {
  "kernelspec": {
   "display_name": "Python 3",
   "language": "python",
   "name": "python3"
  },
  "language_info": {
   "codemirror_mode": {
    "name": "ipython",
    "version": 3
   },
   "file_extension": ".py",
   "mimetype": "text/x-python",
   "name": "python",
   "nbconvert_exporter": "python",
   "pygments_lexer": "ipython3",
   "version": "3.7.0"
  }
 },
 "nbformat": 4,
 "nbformat_minor": 2
}
